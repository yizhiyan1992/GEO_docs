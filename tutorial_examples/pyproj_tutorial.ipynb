{
 "cells": [
  {
   "cell_type": "code",
   "execution_count": 2,
   "metadata": {},
   "outputs": [],
   "source": [
    "import pyproj\n",
    "from pyproj import CRS"
   ]
  },
  {
   "cell_type": "markdown",
   "metadata": {},
   "source": [
    "### creat CRS object"
   ]
  },
  {
   "cell_type": "code",
   "execution_count": 3,
   "metadata": {},
   "outputs": [],
   "source": [
    "crs=CRS.from_epsg(4326)\n",
    "crs=CRS.from_string(\"epsg:4326\")\n",
    "crs=CRS.from_proj4(\"+proj=latlon\")\n",
    "crs=CRS.from_user_input(4326)"
   ]
  },
  {
   "cell_type": "code",
   "execution_count": 4,
   "metadata": {},
   "outputs": [
    {
     "data": {
      "text/plain": [
       "<Geographic 2D CRS: EPSG:4326>\n",
       "Name: WGS 84\n",
       "Axis Info [ellipsoidal]:\n",
       "- Lat[north]: Geodetic latitude (degree)\n",
       "- Lon[east]: Geodetic longitude (degree)\n",
       "Area of Use:\n",
       "- name: World.\n",
       "- bounds: (-180.0, -90.0, 180.0, 90.0)\n",
       "Datum: World Geodetic System 1984 ensemble\n",
       "- Ellipsoid: WGS 84\n",
       "- Prime Meridian: Greenwich"
      ]
     },
     "execution_count": 4,
     "metadata": {},
     "output_type": "execute_result"
    }
   ],
   "source": [
    "crs"
   ]
  },
  {
   "cell_type": "code",
   "execution_count": 13,
   "metadata": {},
   "outputs": [
    {
     "data": {
      "text/plain": [
       "Geod('+a=6378137 +f=0.0033528106647475126')"
      ]
     },
     "execution_count": 13,
     "metadata": {},
     "output_type": "execute_result"
    }
   ],
   "source": [
    "crs.get_geod()"
   ]
  },
  {
   "cell_type": "markdown",
   "metadata": {},
   "source": [
    "### format transformation"
   ]
  },
  {
   "cell_type": "code",
   "execution_count": 5,
   "metadata": {},
   "outputs": [
    {
     "data": {
      "text/plain": [
       "4326"
      ]
     },
     "execution_count": 5,
     "metadata": {},
     "output_type": "execute_result"
    }
   ],
   "source": [
    "crs.to_epsg()"
   ]
  },
  {
   "cell_type": "code",
   "execution_count": 7,
   "metadata": {},
   "outputs": [
    {
     "data": {
      "text/plain": [
       "'GEOGCRS[\"WGS 84\",\\n    ENSEMBLE[\"World Geodetic System 1984 ensemble\",\\n        MEMBER[\"World Geodetic System 1984 (Transit)\"],\\n        MEMBER[\"World Geodetic System 1984 (G730)\"],\\n        MEMBER[\"World Geodetic System 1984 (G873)\"],\\n        MEMBER[\"World Geodetic System 1984 (G1150)\"],\\n        MEMBER[\"World Geodetic System 1984 (G1674)\"],\\n        MEMBER[\"World Geodetic System 1984 (G1762)\"],\\n        ELLIPSOID[\"WGS 84\",6378137,298.257223563,\\n            LENGTHUNIT[\"metre\",1]],\\n        ENSEMBLEACCURACY[2.0]],\\n    PRIMEM[\"Greenwich\",0,\\n        ANGLEUNIT[\"degree\",0.0174532925199433]],\\n    CS[ellipsoidal,2],\\n        AXIS[\"geodetic latitude (Lat)\",north,\\n            ORDER[1],\\n            ANGLEUNIT[\"degree\",0.0174532925199433]],\\n        AXIS[\"geodetic longitude (Lon)\",east,\\n            ORDER[2],\\n            ANGLEUNIT[\"degree\",0.0174532925199433]],\\n    USAGE[\\n        SCOPE[\"Horizontal component of 3D system.\"],\\n        AREA[\"World.\"],\\n        BBOX[-90,-180,90,180]],\\n    ID[\"EPSG\",4326]]'"
      ]
     },
     "execution_count": 7,
     "metadata": {},
     "output_type": "execute_result"
    }
   ],
   "source": [
    "crs.to_wkt(pretty=True)"
   ]
  },
  {
   "cell_type": "markdown",
   "metadata": {},
   "source": [
    "### Transformation from CRS to CRS"
   ]
  },
  {
   "cell_type": "markdown",
   "metadata": {},
   "source": [
    "A couple of things we need to check when we perform CRS transformation:\n",
    "1. the input order of x,y (lat,lon)\n",
    "2. the bounds of CRS"
   ]
  },
  {
   "cell_type": "code",
   "execution_count": 8,
   "metadata": {},
   "outputs": [],
   "source": [
    "from pyproj import Transformer"
   ]
  },
  {
   "cell_type": "code",
   "execution_count": 9,
   "metadata": {},
   "outputs": [
    {
     "data": {
      "text/plain": [
       "<Concatenated Operation Transformer: pipeline>\n",
       "Description: Inverse of NAD83 to WGS 84 (1) + UTM zone 17N\n",
       "Area of Use:\n",
       "- name: North America - onshore and offshore: Canada - Alberta; British Columbia; Manitoba; New Brunswick; Newfoundland and Labrador; Northwest Territories; Nova Scotia; Nunavut; Ontario; Prince Edward Island; Quebec; Saskatchewan; Yukon. United States (USA) - Alabama; Alaska (mainland); Arizona; Arkansas; California; Colorado; Connecticut; Delaware; Florida; Georgia; Idaho; Illinois; Indiana; Iowa; Kansas; Kentucky; Louisiana; Maine; Maryland; Massachusetts; Michigan; Minnesota; Mississippi; Missouri; Montana; Nebraska; Nevada; New Hampshire; New Jersey; New Mexico; New York; North Carolina; North Dakota; Ohio; Oklahoma; Oregon; Pennsylvania; Rhode Island; South Carolina; South Dakota; Tennessee; Texas; Utah; Vermont; Virginia; Washington; West Virginia; Wisconsin; Wyoming.\n",
       "- bounds: (-172.54, 23.81, -47.74, 86.46)"
      ]
     },
     "execution_count": 9,
     "metadata": {},
     "output_type": "execute_result"
    }
   ],
   "source": [
    "crs_4326=CRS.from_epsg(4326)\n",
    "crs_26917=CRS.from_epsg(26917)\n",
    "transformer=Transformer.from_crs(crs_4326, crs_26917)\n",
    "transformer"
   ]
  },
  {
   "cell_type": "code",
   "execution_count": 11,
   "metadata": {},
   "outputs": [
    {
     "data": {
      "text/plain": [
       "(571666.4475041276, 5539109.815175673)"
      ]
     },
     "execution_count": 11,
     "metadata": {},
     "output_type": "execute_result"
    }
   ],
   "source": [
    "transformer.transform(50, -80) # lat, lon order"
   ]
  },
  {
   "cell_type": "code",
   "execution_count": 12,
   "metadata": {},
   "outputs": [
    {
     "data": {
      "text/plain": [
       "(571666.4475041276, 5539109.815175673)"
      ]
     },
     "execution_count": 12,
     "metadata": {},
     "output_type": "execute_result"
    }
   ],
   "source": [
    "transformer=Transformer.from_crs(crs_4326, crs_26917, always_xy=True)\n",
    "transformer.transform(-80, 50) # set always_xt=True then it becomes lon,lat order"
   ]
  },
  {
   "cell_type": "markdown",
   "metadata": {},
   "source": [
    "### geodesic calculation"
   ]
  },
  {
   "cell_type": "code",
   "execution_count": 21,
   "metadata": {},
   "outputs": [],
   "source": [
    "from pyproj import Geod\n",
    "from shapely.geometry import Point, LineString"
   ]
  },
  {
   "cell_type": "markdown",
   "metadata": {},
   "source": [
    "We can input a list of (lat,lon) or using shapely geometry"
   ]
  },
  {
   "cell_type": "code",
   "execution_count": 22,
   "metadata": {},
   "outputs": [
    {
     "data": {
      "text/plain": [
       "14259605.611101862"
      ]
     },
     "execution_count": 22,
     "metadata": {},
     "output_type": "execute_result"
    }
   ],
   "source": [
    "geod_clrk =Geod(ellps=\"clrk66\")\n",
    "geod=Geod(ellps=\"WGS84\")\n",
    "lats = [-72.9, -71.9, -74.9, -74.3, -77.5, -77.4, -71.7, -65.9, -65.7,\n",
    "        -66.6, -66.9, -69.8, -70.0, -71.0, -77.3, -77.9, -74.7]\n",
    "lons = [-74, -102, -102, -131, -163, 163, 172, 140, 113,\n",
    "        88, 59, 25, -4, -14, -33, -46, -61]\n",
    "geod.line_length(lons, lats) # calculate the great circle length"
   ]
  },
  {
   "cell_type": "code",
   "execution_count": 24,
   "metadata": {},
   "outputs": [
    {
     "data": {
      "text/plain": [
       "313588.39721259556"
      ]
     },
     "execution_count": 24,
     "metadata": {},
     "output_type": "execute_result"
    }
   ],
   "source": [
    "line_string = LineString([Point(1, 2), Point(3, 4)])\n",
    "geod.geometry_length(line_string)"
   ]
  },
  {
   "cell_type": "code",
   "execution_count": 26,
   "metadata": {},
   "outputs": [
    {
     "data": {
      "text/plain": [
       "(13376856682207.375, 14710425.40697364)"
      ]
     },
     "execution_count": 26,
     "metadata": {},
     "output_type": "execute_result"
    }
   ],
   "source": [
    "geod.polygon_area_perimeter(lons, lats) # calculate the area and perimeter"
   ]
  },
  {
   "cell_type": "code",
   "execution_count": null,
   "metadata": {},
   "outputs": [],
   "source": []
  }
 ],
 "metadata": {
  "kernelspec": {
   "display_name": "Python 3",
   "language": "python",
   "name": "python3"
  },
  "language_info": {
   "codemirror_mode": {
    "name": "ipython",
    "version": 3
   },
   "file_extension": ".py",
   "mimetype": "text/x-python",
   "name": "python",
   "nbconvert_exporter": "python",
   "pygments_lexer": "ipython3",
   "version": "3.7.3"
  }
 },
 "nbformat": 4,
 "nbformat_minor": 2
}
