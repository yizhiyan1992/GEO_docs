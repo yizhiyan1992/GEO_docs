{
 "cells": [
  {
   "cell_type": "code",
   "execution_count": 1,
   "metadata": {},
   "outputs": [],
   "source": [
    "from shapely.geometry import Point, LineString, LinearRing, Polygon"
   ]
  },
  {
   "cell_type": "markdown",
   "metadata": {},
   "source": [
    "### 1. shapely.geometry can create basic geometry objects"
   ]
  },
  {
   "cell_type": "code",
   "execution_count": 3,
   "metadata": {},
   "outputs": [],
   "source": [
    "point = Point(0.0, 0.0)\n",
    "line = LineString([(0, 0), (1, 1)])\n",
    "ring = LinearRing([(0, 0), (1, 1), (1, 0)])\n",
    "polygon = Polygon([(0, 0), (1, 1), (1, 0)])"
   ]
  },
  {
   "cell_type": "markdown",
   "metadata": {},
   "source": [
    "#### It also allows to create multi-objects"
   ]
  },
  {
   "cell_type": "code",
   "execution_count": 5,
   "metadata": {},
   "outputs": [],
   "source": [
    "from shapely.geometry import collection, MultiPoint, MultiLineString, MultiPolygon"
   ]
  },
  {
   "cell_type": "code",
   "execution_count": 6,
   "metadata": {},
   "outputs": [],
   "source": [
    "points = MultiPoint([(0.0, 0.0), (1.0, 1.0)])\n",
    "coords = [((0, 0), (1, 1)), ((-1, 0), (1, 0))]\n",
    "lines = MultiLineString(coords)"
   ]
  },
  {
   "cell_type": "markdown",
   "metadata": {},
   "source": [
    "#### For each geometric object, there are some attributes that we can get"
   ]
  },
  {
   "cell_type": "code",
   "execution_count": 8,
   "metadata": {},
   "outputs": [
    {
     "data": {
      "text/plain": [
       "[(0.0, 0.0)]"
      ]
     },
     "execution_count": 8,
     "metadata": {},
     "output_type": "execute_result"
    }
   ],
   "source": [
    "list(point.coords)"
   ]
  },
  {
   "cell_type": "code",
   "execution_count": 9,
   "metadata": {},
   "outputs": [
    {
     "data": {
      "text/plain": [
       "(array('d', [0.0]), array('d', [0.0]))"
      ]
     },
     "execution_count": 9,
     "metadata": {},
     "output_type": "execute_result"
    }
   ],
   "source": [
    "point.xy"
   ]
  },
  {
   "cell_type": "code",
   "execution_count": 10,
   "metadata": {},
   "outputs": [
    {
     "data": {
      "text/plain": [
       "1.4142135623730951"
      ]
     },
     "execution_count": 10,
     "metadata": {},
     "output_type": "execute_result"
    }
   ],
   "source": [
    "line.length"
   ]
  },
  {
   "cell_type": "code",
   "execution_count": 11,
   "metadata": {},
   "outputs": [
    {
     "data": {
      "text/plain": [
       "0.5"
      ]
     },
     "execution_count": 11,
     "metadata": {},
     "output_type": "execute_result"
    }
   ],
   "source": [
    "polygon.area"
   ]
  },
  {
   "cell_type": "code",
   "execution_count": 12,
   "metadata": {},
   "outputs": [
    {
     "data": {
      "text/plain": [
       "(0.0, 0.0, 1.0, 1.0)"
      ]
     },
     "execution_count": 12,
     "metadata": {},
     "output_type": "execute_result"
    }
   ],
   "source": [
    "polygon.bounds"
   ]
  },
  {
   "cell_type": "code",
   "execution_count": 15,
   "metadata": {},
   "outputs": [
    {
     "data": {
      "text/plain": [
       "[(0.0, 0.0), (1.0, 1.0), (1.0, 0.0), (0.0, 0.0)]"
      ]
     },
     "execution_count": 15,
     "metadata": {},
     "output_type": "execute_result"
    }
   ],
   "source": [
    "list(polygon.exterior.coords)"
   ]
  },
  {
   "cell_type": "code",
   "execution_count": 14,
   "metadata": {},
   "outputs": [
    {
     "data": {
      "text/plain": [
       "0.0"
      ]
     },
     "execution_count": 14,
     "metadata": {},
     "output_type": "execute_result"
    }
   ],
   "source": [
    "# return the minimum distance to the other geometric object\n",
    "point.distance(line)"
   ]
  },
  {
   "cell_type": "markdown",
   "metadata": {},
   "source": [
    "### linear referencing methods"
   ]
  },
  {
   "cell_type": "markdown",
   "metadata": {},
   "source": [
    "object.interpolate(distance[, normalized=False]) <br>\n",
    "    Return a point at the specified distance along a linear geometric object.\n",
    "    \n",
    "object.project(other[, normalized=False]) <br>\n",
    "Returns the distance along this geometric object to a point nearest the other object.\n",
    "\n",
    "The project() method is the inverse of interpolate()."
   ]
  },
  {
   "cell_type": "code",
   "execution_count": 16,
   "metadata": {},
   "outputs": [
    {
     "data": {
      "image/svg+xml": [
       "<svg xmlns=\"http://www.w3.org/2000/svg\" xmlns:xlink=\"http://www.w3.org/1999/xlink\" width=\"100.0\" height=\"100.0\" viewBox=\"-0.5 0.0 2.0 2.0\" preserveAspectRatio=\"xMinYMin meet\"><g transform=\"matrix(1,0,0,-1,0,2.0)\"><circle cx=\"0.5\" cy=\"1.0\" r=\"0.06\" stroke=\"#555555\" stroke-width=\"0.02\" fill=\"#66cc99\" opacity=\"0.6\" /></g></svg>"
      ],
      "text/plain": [
       "<shapely.geometry.point.Point at 0x18406018e80>"
      ]
     },
     "execution_count": 16,
     "metadata": {},
     "output_type": "execute_result"
    }
   ],
   "source": [
    "ip = LineString([(0, 0), (0, 1), (1, 1)]).interpolate(1.5)\n",
    "ip"
   ]
  },
  {
   "cell_type": "code",
   "execution_count": 17,
   "metadata": {},
   "outputs": [
    {
     "data": {
      "text/plain": [
       "1.5"
      ]
     },
     "execution_count": 17,
     "metadata": {},
     "output_type": "execute_result"
    }
   ],
   "source": [
    "LineString([(0, 0), (0, 1), (1, 1)]).project(ip)"
   ]
  },
  {
   "cell_type": "markdown",
   "metadata": {},
   "source": [
    "### Unary and Binary predicates"
   ]
  },
  {
   "cell_type": "code",
   "execution_count": 18,
   "metadata": {},
   "outputs": [
    {
     "data": {
      "text/plain": [
       "True"
      ]
     },
     "execution_count": 18,
     "metadata": {},
     "output_type": "execute_result"
    }
   ],
   "source": [
    "Point().is_empty"
   ]
  },
  {
   "cell_type": "code",
   "execution_count": 19,
   "metadata": {},
   "outputs": [
    {
     "data": {
      "text/plain": [
       "False"
      ]
     },
     "execution_count": 19,
     "metadata": {},
     "output_type": "execute_result"
    }
   ],
   "source": [
    "MultiPolygon([Point(0, 0).buffer(2.0), Point(1, 1).buffer(2.0)]).is_valid"
   ]
  },
  {
   "cell_type": "code",
   "execution_count": 20,
   "metadata": {},
   "outputs": [
    {
     "data": {
      "text/plain": [
       "True"
      ]
     },
     "execution_count": 20,
     "metadata": {},
     "output_type": "execute_result"
    }
   ],
   "source": [
    "coords = [(0, 0), (1, 1)]\n",
    "LineString(coords).contains(Point(0.5, 0.5))"
   ]
  },
  {
   "cell_type": "code",
   "execution_count": 21,
   "metadata": {},
   "outputs": [
    {
     "data": {
      "text/plain": [
       "True"
      ]
     },
     "execution_count": 21,
     "metadata": {},
     "output_type": "execute_result"
    }
   ],
   "source": [
    "LineString(coords).crosses(LineString([(0, 1), (1, 0)]))"
   ]
  },
  {
   "cell_type": "markdown",
   "metadata": {},
   "source": [
    "\n",
    "object.intersects(other)\n",
    "\n",
    "Returns True if the boundary or interior of the object intersect in any way with those of the other.\n",
    "\n",
    "In other words, geometric objects intersect if they have any boundary or interior point in common.\n",
    "\n",
    "object.overlaps(other)\n",
    "\n",
    "Returns True if the geometries have more than one but not all points in common, have the same dimension, and the intersection of the interiors of the geometries has the same dimension as the geometries themselves.\n",
    "\n",
    "object.touches(other)\n",
    "\n",
    "Returns True if the objects have at least one point in common and their interiors do not intersect with any part of the other.\n",
    "\n",
    "object.within(other)\n",
    "\n",
    "Returns True if the object’s boundary and interior intersect only with the interior of the other (not its boundary or exterior).\n",
    "\n",
    "object.relate(other)\n",
    "\n",
    "Returns a string representation of the DE-9IM matrix of relationships between an object’s interior, boundary, exterior and those of another geometric object.\n"
   ]
  },
  {
   "cell_type": "markdown",
   "metadata": {},
   "source": [
    "### Spatial analysis methods\n",
    "As well as boolean attributes and methods, Shapely provides analysis methods that return new geometric objects."
   ]
  },
  {
   "cell_type": "markdown",
   "metadata": {},
   "source": [
    "**object.boundary**\n",
    "Returns a lower dimensional object representing the object’s set-theoretic boundary.\n",
    "\n",
    "The boundary of a polygon is a line, the boundary of a line is a collection of points. The boundary of a point is an empty (null) collection."
   ]
  },
  {
   "cell_type": "code",
   "execution_count": 23,
   "metadata": {},
   "outputs": [
    {
     "data": {
      "image/svg+xml": [
       "<svg xmlns=\"http://www.w3.org/2000/svg\" xmlns:xlink=\"http://www.w3.org/1999/xlink\" width=\"100.0\" height=\"100.0\" viewBox=\"-0.5 -0.5 2.0 2.0\" preserveAspectRatio=\"xMinYMin meet\"><g transform=\"matrix(1,0,0,-1,0,1.0)\"><circle cx=\"0.5\" cy=\"0.5\" r=\"0.06\" stroke=\"#555555\" stroke-width=\"0.02\" fill=\"#66cc99\" opacity=\"0.6\" /></g></svg>"
      ],
      "text/plain": [
       "<shapely.geometry.point.Point at 0x18414211cf8>"
      ]
     },
     "execution_count": 23,
     "metadata": {},
     "output_type": "execute_result"
    }
   ],
   "source": [
    "LineString([(0, 0), (1, 1)]).centroid"
   ]
  },
  {
   "cell_type": "code",
   "execution_count": 24,
   "metadata": {},
   "outputs": [
    {
     "data": {
      "image/svg+xml": [
       "<svg xmlns=\"http://www.w3.org/2000/svg\" xmlns:xlink=\"http://www.w3.org/1999/xlink\" width=\"100.0\" height=\"100.0\" viewBox=\"-0.62 -0.62 2.24 3.24\" preserveAspectRatio=\"xMinYMin meet\"><g transform=\"matrix(1,0,0,-1,0,2.0)\"><path fill-rule=\"evenodd\" fill=\"#66cc99\" stroke=\"#555555\" stroke-width=\"0.06480000000000001\" opacity=\"0.6\" d=\"M 1.5,-0.4123059204384314 L 1.4354270158816953,-0.4354105035983127 L 1.2926354830241944,-0.4711779206048452 L 1.147025710494343,-0.49277709000829506 L 1.0000000000000024,-0.5 L 0.8529742895056617,-0.4927770900082955 L 0.7073645169758103,-0.4711779206048461 L 0.5645729841183093,-0.43541050359831424 L 0.42597485145236824,-0.38581929876693133 L 0.29290489476100645,-0.3228818965225342 L 0.16664465047059918,-0.24720441845381957 L 0.0484100737545341,-0.15951568004410732 L -0.060660171779819416,-0.06066017177982341 L -0.15951568004410377,0.04841007375452977 L -0.24720441845381647,0.1666446504705945 L -0.3228818965225315,0.29290489476100146 L -0.38581929876692933,0.42597485145236336 L -0.4354105035983127,0.5645729841183045 L -0.4711779206048452,0.7073645169758058 L -0.4927770900082953,0.8529742895056575 L -0.5,0.9999999999999984 L -0.4927770900082953,1.1470257104943395 L -0.4711779206048461,1.2926354830241913 L -0.43541050359831357,1.4354270158816926 L -0.38581929876693044,1.574025148547634 L -0.32288189652253285,1.707095105238996 L -0.24720441845381824,1.8333553495294028 L -0.15951568004410577,1.951589926245468 L -0.060660171779821415,2.060660171779821 L 0.0484100737545311,2.159515680044105 L 0.16664465047059562,2.2472044184538174 L 0.292904894761002,2.3228818965225315 L 0.42597485145236325,2.385819298766929 L 0.5645729841183038,2.4354105035983125 L 0.7073645169758044,2.4711779206048448 L 0.8529742895056553,2.492777090008295 L 0.9999999999999958,2.5 L 1.1470257104943362,2.4927770900082957 L 1.292635483024187,2.4711779206048465 L 1.435427015881688,2.435410503598315 L 1.5000000000000002,2.412305920438431 L 1.4259748514523634,2.385819298766929 L 1.292904894761002,2.3228818965225315 L 1.1666446504705956,2.2472044184538174 L 1.048410073754531,2.159515680044105 L 0.9393398282201786,2.060660171779821 L 0.8404843199558942,1.951589926245468 L 0.7527955815461818,1.8333553495294028 L 0.6771181034774671,1.707095105238996 L 0.6141807012330696,1.574025148547634 L 0.5645894964016864,1.4354270158816926 L 0.5288220793951539,1.2926354830241913 L 0.5072229099917047,1.1470257104943395 L 0.5,0.9999999999999984 L 0.5072229099917047,0.8529742895056575 L 0.5288220793951548,0.7073645169758058 L 0.5645894964016873,0.5645729841183045 L 0.6141807012330707,0.42597485145236336 L 0.6771181034774685,0.29290489476100146 L 0.7527955815461835,0.1666446504705945 L 0.8404843199558962,0.04841007375452977 L 0.9393398282201806,-0.06066017177982341 L 1.048410073754534,-0.15951568004410732 L 1.1666446504705992,-0.24720441845381957 L 1.2929048947610065,-0.3228818965225342 L 1.4259748514523682,-0.38581929876693133 L 1.5,-0.4123059204384314 z\" /></g></svg>"
      ],
      "text/plain": [
       "<shapely.geometry.polygon.Polygon at 0x18414645b00>"
      ]
     },
     "execution_count": 24,
     "metadata": {},
     "output_type": "execute_result"
    }
   ],
   "source": [
    "a = Point(1, 1).buffer(1.5)\n",
    "b = Point(2, 1).buffer(1.5)\n",
    "a.difference(b)"
   ]
  },
  {
   "cell_type": "markdown",
   "metadata": {},
   "source": [
    "Several of these set-theoretic methods can be invoked using overloaded operators:\n",
    "\n",
    "**intersection** can be accessed with and, &\n",
    "\n",
    "**union** can be accessed with or, |\n",
    "\n",
    "**difference** can be accessed with minus, -\n",
    "\n",
    "**symmetric_difference** can be accessed with xor, ^"
   ]
  },
  {
   "cell_type": "markdown",
   "metadata": {},
   "source": [
    "### Constructive methods"
   ]
  },
  {
   "cell_type": "markdown",
   "metadata": {},
   "source": [
    "**object.buffer(distance, resolution=16, cap_style=1, join_style=1, mitre_limit=5.0, single_sided=False)**\n",
    "Returns an approximate representation of all points within a given distance of the this geometric object."
   ]
  },
  {
   "cell_type": "code",
   "execution_count": 25,
   "metadata": {},
   "outputs": [],
   "source": [
    "line = LineString([(0, 0), (1, 1), (0, 2), (2, 2), (3, 1), (1, 0)])\n",
    "dilated = line.buffer(0.5)\n",
    "eroded = dilated.buffer(-0.3)"
   ]
  },
  {
   "cell_type": "code",
   "execution_count": 26,
   "metadata": {},
   "outputs": [
    {
     "data": {
      "image/svg+xml": [
       "<svg xmlns=\"http://www.w3.org/2000/svg\" xmlns:xlink=\"http://www.w3.org/1999/xlink\" width=\"100.0\" height=\"100.0\" viewBox=\"-0.6599986858544988 -0.6599986858544988 4.319964518071469 3.3199973717089977\" preserveAspectRatio=\"xMinYMin meet\"><g transform=\"matrix(1,0,0,-1,0,2.0)\"><path fill-rule=\"evenodd\" fill=\"#66cc99\" stroke=\"#555555\" stroke-width=\"0.08639929036142938\" opacity=\"0.6\" d=\"M 0.29289321881345254,1.0 L -0.35355339059327373,1.6464466094067263 L -0.3865052266813704,1.6828033579181796 L -0.4157348061512742,1.7222148834902011 L -0.4409606321741788,1.7643016315870035 L -0.4619397662556444,1.8086582838174576 L -0.4784701678661052,1.8548576613727712 L -0.4903926402016157,1.9024548389919382 L -0.4975923633360987,1.950991429835222 L -0.5,2.000000000000002 L -0.49759236333609824,2.049008570164782 L -0.4903926402016148,2.097545161008066 L -0.4784701678661039,2.145142338627233 L -0.46193976625564276,2.1913417161825466 L -0.44096063217417686,2.2356983684130003 L -0.4157348061512719,2.277785116509802 L -0.3865052266813678,2.3171966420818237 L -0.3535533905932731,2.3535533905932744 L -0.3171966420818222,2.386505226681369 L -0.2777851165098006,2.415734806151273 L -0.23569836841299843,2.4409606321741775 L -0.19134171618254464,2.4619397662556435 L -0.14514233862723108,2.4784701678661043 L -0.09754516100806421,2.490392640201615 L -0.049008570164780545,2.4975923633360986 L -4.134730398713788e-16,2.5 L 2.0,2.5 L 2.0490085701647804,2.4975923633360986 L 2.097545161008064,2.490392640201615 L 2.145142338627231,2.4784701678661043 L 2.191341716182545,2.4619397662556435 L 2.235698368412999,2.4409606321741775 L 2.277785116509801,2.4157348061512725 L 2.317196642081823,2.3865052266813684 L 2.353553390593274,2.353553390593274 L 3.353553390593274,1.3535533905932737 L 3.3869593598581984,1.3166424700164734 L 3.416529207756272,1.2765925145153654 L 3.441969793619239,1.2338005592982344 L 3.4630289122153934,1.1886908223858001 L 3.4794977939859795,1.1417104991261375 L 3.491213174682082,1.093325328923881 L 3.49805891388465,1.0440149781329329 L 3.4999671463624717,0.9942682848843708 L 3.496918954854096,0.9445784129899474 L 3.488944557604095,0.8954379629629573 L 3.476123008794514,0.847334088623363 L 3.4585814148412894,0.8007436676987122 L 3.436493674324875,0.7561285742970899 L 3.410078754046775,0.713931100118443 L 3.3795985183022994,0.674569569796095 L 3.3453551328890363,0.6384341938357612 L 3.3076880695864137,0.6058832002639493 L 3.266970740802428,0.5772392833346471 L 3.223606797749979,0.5527864045000421 L 1.223606797749979,-0.4472135954999579 L 1.1786954721534506,-0.4669774386754197 L 1.1320632114752036,-0.48224403384060194 L 1.0841591098773555,-0.4928663553384946 L 1.035444510045339,-0.4987421044063213 L 0.986388560205646,-0.49981469436854764 L 0.9374636959719425,-0.49607379559750014 L 0.8891410905318503,-0.48755543499332726 L 0.8418861169915808,-0.47434164902525683 L 0.7961538665785228,-0.45655969367555144 L 0.7523847658639455,-0.4343808188948344 L 0.7110003352143541,-0.4080186193714502 L 0.6723991293199354,-0.37772697749785306 L 0.6369528988950185,-0.343797618344382 L 0.6050030105154757,-0.30655730018735905 L 0.5768571590719873,-0.2663646676482649 L 0.5527864045000421,-0.22360679774997905 L 0.5330225613245807,-0.17869547215345152 L 0.5318852523876161,-0.17522152879893138 L 0.35355339059327373,-0.35355339059327373 L 0.3171966420818222,-0.38650522668136894 L 0.2777851165098006,-0.41573480615127295 L 0.2356983684129983,-0.4409606321741778 L 0.1913417161825444,-0.4619397662556436 L 0.14514233862723072,-0.4784701678661046 L 0.09754516100806372,-0.4903926402016153 L 0.04900857016477994,-0.49759236333609846 L -3.0245073740886313e-16,-0.5 L -0.049008570164780545,-0.4975923633360984 L -0.09754516100806432,-0.4903926402016152 L -0.1451423386272313,-0.4784701678661044 L -0.19134171618254495,-0.46193976625564337 L -0.23569836841299885,-0.4409606321741775 L -0.277785116509801,-0.4157348061512727 L -0.3171966420818227,-0.38650522668136855 L -0.35355339059327373,-0.3535533905932738 L -0.38650522668136833,-0.3171966420818229 L -0.4157348061512724,-0.2777851165098014 L -0.44096063217417736,-0.23569836841299913 L -0.46193976625564326,-0.19134171618254514 L -0.4784701678661043,-0.1451423386272316 L -0.4903926402016151,-0.09754516100806473 L -0.49759236333609835,-0.04900857016478108 L -0.5,-9.494107596574928e-16 L -0.4975923633360986,0.04900857016477919 L -0.4903926402016155,0.09754516100806288 L -0.47847016786610486,0.1451423386272298 L -0.461939766255644,0.1913417161825434 L -0.44096063217417836,0.23569836841299724 L -0.41573480615127373,0.2777851165097995 L -0.38650522668136983,0.3171966420818211 L -0.3535533905932754,0.3535533905932721 L 0.29289321881345254,1.0 z M 1.4503736709046264,0.7842038298272606 L 2.1559174829590035,1.136975735854449 L 1.7928932188134525,1.5 L 1.2071067811865475,1.5 L 1.3535533905932737,1.3535533905932737 L 1.3865052266813684,1.3171966420818229 L 1.4157348061512727,1.277785116509801 L 1.4409606321741775,1.2356983684129987 L 1.4619397662556435,1.1913417161825448 L 1.4784701678661043,1.1451423386272312 L 1.4903926402016152,1.0975451610080642 L 1.4975923633360986,1.0490085701647802 L 1.5,1.0 L 1.4975923633360986,0.9509914298352197 L 1.4903926402016152,0.9024548389919359 L 1.4784701678661045,0.8548576613727689 L 1.4619397662556435,0.8086582838174551 L 1.4503736709046264,0.7842038298272606 z\" /></g></svg>"
      ],
      "text/plain": [
       "<shapely.geometry.polygon.Polygon at 0x184146a7c50>"
      ]
     },
     "execution_count": 26,
     "metadata": {},
     "output_type": "execute_result"
    }
   ],
   "source": [
    "dilated"
   ]
  },
  {
   "cell_type": "markdown",
   "metadata": {},
   "source": [
    "**object.convex_hull**\n",
    "Returns a representation of the smallest convex Polygon containing all the points in the object unless the number of points in the object is less than three. For two points, the convex hull collapses to a LineString; for 1, a Point."
   ]
  },
  {
   "cell_type": "markdown",
   "metadata": {},
   "source": [
    "**object.envelope**\n",
    "\n",
    "Returns a representation of the point or smallest rectangular polygon (with sides parallel to the coordinate axes) that contains the object."
   ]
  },
  {
   "cell_type": "markdown",
   "metadata": {},
   "source": [
    "**object.simplify(tolerance, preserve_topology=True)**\n",
    "\n",
    "Returns a simplified representation of the geometric object."
   ]
  },
  {
   "cell_type": "markdown",
   "metadata": {},
   "source": [
    "### operations: nearest_points"
   ]
  },
  {
   "cell_type": "markdown",
   "metadata": {},
   "source": [
    "**shapely.ops.nearest_points(geom1, geom2)**\n",
    "\n",
    "Returns a tuple of the nearest points in the input geometries. The points are returned in the same order as the input geometries."
   ]
  },
  {
   "cell_type": "code",
   "execution_count": 27,
   "metadata": {},
   "outputs": [
    {
     "data": {
      "text/plain": [
       "['POINT (0.5 1)', 'POINT (0.5 2)']"
      ]
     },
     "execution_count": 27,
     "metadata": {},
     "output_type": "execute_result"
    }
   ],
   "source": [
    "from shapely.ops import nearest_points\n",
    "triangle = Polygon([(0, 0), (1, 0), (0.5, 1), (0, 0)])\n",
    "square = Polygon([(0, 2), (1, 2), (1, 3), (0, 3), (0, 2)])\n",
    "[o.wkt for o in nearest_points(triangle, square)]"
   ]
  },
  {
   "cell_type": "markdown",
   "metadata": {},
   "source": [
    "**shapely.ops.snap(geom1, geom2, tolerance)**\n",
    "\n",
    "Snaps vertices in geom1 to vertices in the geom2. A copy of the snapped geometry is returned. The input geometries are not modified.\n",
    "\n",
    "The tolerance argument specifies the minimum distance between vertices for them to be snapped."
   ]
  },
  {
   "cell_type": "code",
   "execution_count": 28,
   "metadata": {},
   "outputs": [
    {
     "data": {
      "text/plain": [
       "'LINESTRING (0 0, 1 1, 2 1, 2.6 0.5)'"
      ]
     },
     "execution_count": 28,
     "metadata": {},
     "output_type": "execute_result"
    }
   ],
   "source": [
    "from shapely.ops import snap\n",
    "square = Polygon([(1,1), (2, 1), (2, 2), (1, 2), (1, 1)])\n",
    "line = LineString([(0,0), (0.8, 0.8), (1.8, 0.95), (2.6, 0.5)])\n",
    "result = snap(line, square, 0.5)\n",
    "result.wkt"
   ]
  },
  {
   "cell_type": "markdown",
   "metadata": {},
   "source": [
    "**shapely.ops.split(geom, splitter)**\n",
    "\n",
    "Splits a geometry by another geometry and returns a collection of geometries. This function is the theoretical opposite of the union of the split geometry parts. If the splitter does not split the geometry, a collection with a single geometry equal to the input geometry is returned."
   ]
  },
  {
   "cell_type": "markdown",
   "metadata": {},
   "source": [
    "**shapely.ops.substring(geom, start_dist, end_dist[, normalized=False])**\n",
    "\n",
    "Return the LineString between start_dist and end_dist or a Point if they are at the same location"
   ]
  },
  {
   "cell_type": "markdown",
   "metadata": {},
   "source": [
    "### transformation\n",
    "1. wkt\n",
    "2. wkb\n",
    "3. np.ndarray"
   ]
  },
  {
   "cell_type": "code",
   "execution_count": 29,
   "metadata": {},
   "outputs": [
    {
     "data": {
      "text/plain": [
       "'POINT (0 0)'"
      ]
     },
     "execution_count": 29,
     "metadata": {},
     "output_type": "execute_result"
    }
   ],
   "source": [
    "Point(0, 0).wkt"
   ]
  },
  {
   "cell_type": "code",
   "execution_count": 30,
   "metadata": {},
   "outputs": [
    {
     "data": {
      "text/plain": [
       "b'\\x01\\x01\\x00\\x00\\x00\\x00\\x00\\x00\\x00\\x00\\x00\\x00\\x00\\x00\\x00\\x00\\x00\\x00\\x00\\x00\\x00'"
      ]
     },
     "execution_count": 30,
     "metadata": {},
     "output_type": "execute_result"
    }
   ],
   "source": [
    "Point(0, 0).wkb"
   ]
  },
  {
   "cell_type": "code",
   "execution_count": 31,
   "metadata": {},
   "outputs": [
    {
     "data": {
      "text/plain": [
       "b'\\x01\\x01\\x00\\x00\\x00\\x00\\x00\\x00\\x00\\x00\\x00\\x00\\x00\\x00\\x00\\x00\\x00\\x00\\x00\\x00\\x00'"
      ]
     },
     "execution_count": 31,
     "metadata": {},
     "output_type": "execute_result"
    }
   ],
   "source": [
    "from shapely import wkb\n",
    "pt = Point(0, 0)\n",
    "wkb.dumps(pt)"
   ]
  },
  {
   "cell_type": "code",
   "execution_count": 32,
   "metadata": {},
   "outputs": [
    {
     "data": {
      "text/plain": [
       "'POINT (0 0)'"
      ]
     },
     "execution_count": 32,
     "metadata": {},
     "output_type": "execute_result"
    }
   ],
   "source": [
    "wkb.loads(pt.wkb).wkt"
   ]
  },
  {
   "cell_type": "code",
   "execution_count": 33,
   "metadata": {},
   "outputs": [
    {
     "name": "stderr",
     "output_type": "stream",
     "text": [
      "C:\\Users\\Zhiyan\\Anaconda3\\lib\\site-packages\\IPython\\core\\interactiveshell.py:3296: ShapelyDeprecationWarning: The array interface is deprecated and will no longer work in Shapely 2.0. Convert the '.coords' to a numpy array instead.\n",
      "  exec(code_obj, self.user_global_ns, self.user_ns)\n"
     ]
    },
    {
     "data": {
      "text/plain": [
       "array([0., 0.])"
      ]
     },
     "execution_count": 33,
     "metadata": {},
     "output_type": "execute_result"
    }
   ],
   "source": [
    "from numpy import asarray\n",
    "asarray(Point(0, 0))"
   ]
  },
  {
   "cell_type": "code",
   "execution_count": 35,
   "metadata": {},
   "outputs": [
    {
     "name": "stderr",
     "output_type": "stream",
     "text": [
      "C:\\Users\\Zhiyan\\Anaconda3\\lib\\site-packages\\IPython\\core\\interactiveshell.py:3296: ShapelyDeprecationWarning: The proxy geometries (through the 'asShape()', 'asPoint()' or 'PointAdapter()' constructors) are deprecated and will be removed in Shapely 2.0. Use the 'shape()' function or the standard 'Point()' constructor instead.\n",
      "  exec(code_obj, self.user_global_ns, self.user_ns)\n"
     ]
    },
    {
     "data": {
      "text/plain": [
       "'POINT (0 0)'"
      ]
     },
     "execution_count": 35,
     "metadata": {},
     "output_type": "execute_result"
    }
   ],
   "source": [
    "from shapely.geometry import asPoint\n",
    "import numpy as np\n",
    "pa = asPoint(np.array([0.0, 0.0]))\n",
    "pa.wkt"
   ]
  },
  {
   "cell_type": "code",
   "execution_count": 36,
   "metadata": {},
   "outputs": [
    {
     "name": "stderr",
     "output_type": "stream",
     "text": [
      "C:\\Users\\Zhiyan\\Anaconda3\\lib\\site-packages\\IPython\\core\\interactiveshell.py:3296: ShapelyDeprecationWarning: The proxy geometries (through the 'asShape()', 'asLineString()' or 'LineStringAdapter()' constructors) are deprecated and will be removed in Shapely 2.0. Use the 'shape()' function or the standard 'LineString()' constructor instead.\n",
      "  exec(code_obj, self.user_global_ns, self.user_ns)\n"
     ]
    },
    {
     "data": {
      "text/plain": [
       "'LINESTRING (1 2, 3 4)'"
      ]
     },
     "execution_count": 36,
     "metadata": {},
     "output_type": "execute_result"
    }
   ],
   "source": [
    "from shapely.geometry import asLineString\n",
    "la = asLineString(np.array([[1.0, 2.0], [3.0, 4.0]]))\n",
    "la.wkt"
   ]
  },
  {
   "cell_type": "code",
   "execution_count": null,
   "metadata": {},
   "outputs": [],
   "source": []
  }
 ],
 "metadata": {
  "kernelspec": {
   "display_name": "Python 3",
   "language": "python",
   "name": "python3"
  },
  "language_info": {
   "codemirror_mode": {
    "name": "ipython",
    "version": 3
   },
   "file_extension": ".py",
   "mimetype": "text/x-python",
   "name": "python",
   "nbconvert_exporter": "python",
   "pygments_lexer": "ipython3",
   "version": "3.7.3"
  }
 },
 "nbformat": 4,
 "nbformat_minor": 2
}
